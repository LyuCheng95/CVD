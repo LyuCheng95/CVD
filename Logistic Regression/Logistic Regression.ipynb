{
 "cells": [
  {
   "cell_type": "code",
   "execution_count": 48,
   "metadata": {},
   "outputs": [],
   "source": [
    "import numpy as np\n",
    "import pandas as pd\n",
    "from sklearn import linear_model\n",
    "from sklearn.model_selection import train_test_split\n",
    "from sklearn.metrics import accuracy_score\n",
    "\n",
    "data = pd.read_csv('t1.csv', delimiter = ',').values\n",
    "x = data[:,:2]\n",
    "y = data[:,:-1].astype(int)\n",
    "\n",
    "train = np.random.choice([True, False], len(data), replace=True, p=[0.9, 0.1])\n",
    "x_train = data[train,:2]\n",
    "y_train = data[train,-1].astype(int)\n",
    "x_test = data[~train,:2]\n",
    "y_test = data[~train,-1].astype(int)\n"
   ]
  },
  {
   "cell_type": "code",
   "execution_count": 49,
   "metadata": {},
   "outputs": [
    {
     "data": {
      "text/plain": [
       "LogisticRegression(C=1.0, class_weight=None, dual=False, fit_intercept=True,\n",
       "          intercept_scaling=1, max_iter=100, multi_class='warn',\n",
       "          n_jobs=None, penalty='l2', random_state=None, solver='liblinear',\n",
       "          tol=0.0001, verbose=0, warm_start=False)"
      ]
     },
     "execution_count": 49,
     "metadata": {},
     "output_type": "execute_result"
    }
   ],
   "source": [
    "logit = linear_model.LogisticRegression(solver = 'liblinear')\n",
    "logit.fit(x_train, y_train)"
   ]
  },
  {
   "cell_type": "code",
   "execution_count": 50,
   "metadata": {},
   "outputs": [
    {
     "name": "stdout",
     "output_type": "stream",
     "text": [
      "0.5943439962911451\n"
     ]
    },
    {
     "data": {
      "text/plain": [
       "0.590758068890697"
      ]
     },
     "execution_count": 50,
     "metadata": {},
     "output_type": "execute_result"
    }
   ],
   "source": [
    "print(logit.score(x_test,y_test))\n",
    "pred_y = logit.predict(x_train)\n",
    "accuracy_score(pred_y, y_train)"
   ]
  },
  {
   "cell_type": "code",
   "execution_count": 25,
   "metadata": {},
   "outputs": [
    {
     "data": {
      "text/plain": [
       "array([[-13.46009488, -11.8617987 ]])"
      ]
     },
     "execution_count": 25,
     "metadata": {},
     "output_type": "execute_result"
    }
   ],
   "source": [
    "logit.coef_"
   ]
  },
  {
   "cell_type": "code",
   "execution_count": 4,
   "metadata": {},
   "outputs": [
    {
     "data": {
      "text/plain": [
       "0.924790236460717"
      ]
     },
     "execution_count": 4,
     "metadata": {},
     "output_type": "execute_result"
    }
   ],
   "source": [
    "data = pd.read_csv('t2-smoking.csv', delimiter = ',').values\n",
    "x = data[:,:2]\n",
    "y = data[:,2].astype(int)\n",
    "\n",
    "train = np.random.choice([True, False], len(data), replace=True, p=[0.9, 0.1])\n",
    "x_train = data[train,:2]\n",
    "y_train = data[train,2].astype(int)\n",
    "x_test = data[~train,:2]\n",
    "y_test = data[~train,2].astype(int)\n",
    "\n",
    "logit.fit(x_train, y_train)\n",
    "logit.score(x_test,y_test)"
   ]
  },
  {
   "cell_type": "code",
   "execution_count": 16,
   "metadata": {},
   "outputs": [],
   "source": [
    "\n",
    "\n",
    "def try_test(file):\n",
    "    data = pd.read_csv(file, delimiter = ',').values\n",
    "    x = data[:,:-1]\n",
    "    y = data[:,-1]\n",
    "\n",
    "    x_train, x_test, y_train, y_test = train_test_split(x,y,test_size=0.2)\n",
    "\n",
    "    logit.fit(x_train, y_train)\n",
    "    y_pred = logit.predict(x_test)\n",
    "    print(len(y_pred))\n",
    "    \n",
    "    return accuracy_score(y_pred,y_test)"
   ]
  },
  {
   "cell_type": "code",
   "execution_count": 6,
   "metadata": {},
   "outputs": [
    {
     "name": "stdout",
     "output_type": "stream",
     "text": [
      "13093\n"
     ]
    },
    {
     "data": {
      "text/plain": [
       "0.9283586649354617"
      ]
     },
     "execution_count": 6,
     "metadata": {},
     "output_type": "execute_result"
    }
   ],
   "source": [
    "try_test('t2-smoking.csv')"
   ]
  },
  {
   "cell_type": "code",
   "execution_count": 7,
   "metadata": {},
   "outputs": [
    {
     "name": "stdout",
     "output_type": "stream",
     "text": [
      "13093\n"
     ]
    },
    {
     "data": {
      "text/plain": [
       "0.8880317727029711"
      ]
     },
     "execution_count": 7,
     "metadata": {},
     "output_type": "execute_result"
    }
   ],
   "source": [
    "try_test('t2-diff.csv')"
   ]
  },
  {
   "cell_type": "code",
   "execution_count": 8,
   "metadata": {},
   "outputs": [
    {
     "name": "stdout",
     "output_type": "stream",
     "text": [
      "13093\n"
     ]
    },
    {
     "data": {
      "text/plain": [
       "0.9266783777591079"
      ]
     },
     "execution_count": 8,
     "metadata": {},
     "output_type": "execute_result"
    }
   ],
   "source": [
    "try_test('t2.csv')"
   ]
  },
  {
   "cell_type": "code",
   "execution_count": 9,
   "metadata": {},
   "outputs": [
    {
     "name": "stdout",
     "output_type": "stream",
     "text": [
      "13093\n"
     ]
    },
    {
     "data": {
      "text/plain": [
       "0.8838310547620866"
      ]
     },
     "execution_count": 9,
     "metadata": {},
     "output_type": "execute_result"
    }
   ],
   "source": [
    "try_test('t4.csv')"
   ]
  },
  {
   "cell_type": "code",
   "execution_count": 10,
   "metadata": {},
   "outputs": [
    {
     "name": "stdout",
     "output_type": "stream",
     "text": [
      "13093\n"
     ]
    },
    {
     "data": {
      "text/plain": [
       "0.8903230733979989"
      ]
     },
     "execution_count": 10,
     "metadata": {},
     "output_type": "execute_result"
    }
   ],
   "source": [
    "try_test('t3.csv')"
   ]
  },
  {
   "cell_type": "code",
   "execution_count": 11,
   "metadata": {
    "collapsed": true
   },
   "outputs": [],
   "source": [
    "filenames = [#\"t1-diff.csv\",\n",
    "\"t1-healthy.csv\",\n",
    "\"t1-non-exercises.csv\",\n",
    "\"t1-non-smokers.csv\",\n",
    "\"t1-only-females.csv\",\n",
    "\"t1-only-males.csv\",\n",
    "\"t1-smoking.csv\",\n",
    "\"t1-unhealthy.csv\",\n",
    "\"t1.csv\",\n",
    "\"t2-diff.csv\",\n",
    "\"t2-healthy.csv\",\n",
    "\"t2-non-exercises.csv\",\n",
    "\"t2-non-smokers.csv\",\n",
    "\"t2-only-females.csv\",\n",
    "\"t2-only-males.csv\",\n",
    "\"t2-smoking.csv\",\n",
    "\"t2-unhealthy.csv\",\n",
    "\"t2.csv\",\n",
    "\"t3-diff.csv\",\n",
    "\"t3-healthy.csv\",\n",
    "\"t3-non-exercises.csv\",\n",
    "\"t3-non-smokers.csv\",\n",
    "\"t3-only-females.csv\",\n",
    "\"t3-only-males.csv\",\n",
    "\"t3-smoking.csv\",\n",
    "\"t3-unhealthy.csv\",\n",
    "\"t3.csv\"]"
   ]
  },
  {
   "cell_type": "code",
   "execution_count": 18,
   "metadata": {},
   "outputs": [
    {
     "name": "stdout",
     "output_type": "stream",
     "text": [
      "9290\n",
      "t1-healthy.csv 0.726264800861141\n",
      "2562\n",
      "t1-non-exercises.csv 0.6943793911007026\n",
      "11947\n",
      "t1-non-smokers.csv 0.7232778103289529\n",
      "8515\n",
      "t1-only-females.csv 0.7133294186729301\n",
      "4579\n",
      "t1-only-males.csv 0.7246123607774624\n",
      "13093\n",
      "t1-smoking.csv 0.7219124723134499\n",
      "3804\n",
      "t1-unhealthy.csv 0.7108307045215563\n",
      "13093\n",
      "t1.csv 0.7221416023829528\n",
      "13093\n",
      "t2-diff.csv 0.6915145497594134\n",
      "9290\n",
      "t2-healthy.csv 0.7314316469321851\n",
      "2562\n",
      "t2-non-exercises.csv 0.695160031225605\n",
      "11947\n",
      "t2-non-smokers.csv 0.7175860048547753\n",
      "8515\n",
      "t2-only-females.csv 0.7196711685261303\n",
      "4579\n",
      "t2-only-males.csv 0.7182791002402271\n",
      "13093\n",
      "t2-smoking.csv 0.7159550905063774\n",
      "3804\n",
      "t2-unhealthy.csv 0.7121451104100947\n",
      "13093\n",
      "t2.csv 0.7176353776827312\n",
      "13093\n",
      "t3-diff.csv 0.6961735278393034\n",
      "9290\n",
      "t3-healthy.csv 0.7271259418729817\n",
      "2562\n",
      "t3-non-exercises.csv 0.6459797033567526\n",
      "11947\n",
      "t3-non-smokers.csv 0.713317150749142\n",
      "8515\n",
      "t3-only-females.csv 0.723429242513212\n",
      "4579\n",
      "t3-only-males.csv 0.7300720681371479\n",
      "13093\n",
      "t3-smoking.csv 0.7293973879172077\n",
      "3804\n",
      "t3-unhealthy.csv 0.7289695057833859\n",
      "13093\n",
      "t3.csv 0.7293210112273734\n"
     ]
    }
   ],
   "source": [
    "for file in filenames:\n",
    "    print(file, try_test(file))\n",
    "    "
   ]
  },
  {
   "cell_type": "code",
   "execution_count": 53,
   "metadata": {
    "collapsed": true
   },
   "outputs": [],
   "source": [
    "from sklearn import preprocessing\n",
    "\n",
    "def try_test2(file):\n",
    "    data = pd.read_csv(file, delimiter = ',').values\n",
    "    x = data[:,:-1]\n",
    "    y = data[:,-1]\n",
    "    x_train, x_test, y_train, y_test = train_test_split(x,y,test_size=0.2)\n",
    "    \n",
    "    poly2 = preprocessing.PolynomialFeatures(2)\n",
    "    poly3 = preprocessing.PolynomialFeatures(3)\n",
    "\n",
    "    x2 = poly2.fit_transform(x_train)\n",
    "    x3 = poly3.fit_transform(x_train)\n",
    "\n",
    "    x2_test = poly2.fit_transform(x_test)\n",
    "    x3_test = poly3.fit_transform(x_test)\n",
    "    \n",
    "    print(file)\n",
    "    logit.fit(x_train, y_train)\n",
    "    print(\"\\tPolynomial ^ 1, score is,\", logit.score(x_test,y_test))\n",
    "    logit.fit(x2, y_train)\n",
    "    print(\"\\tPolynomial ^ 2, score is,\", logit.score(x2_test,y_test))\n",
    "    logit.fit(x3, y_train)\n",
    "    print(\"\\tPolynomial ^ 3, score is,\", logit.score(x3_test,y_test))\n",
    "    "
   ]
  },
  {
   "cell_type": "code",
   "execution_count": 54,
   "metadata": {},
   "outputs": [
    {
     "name": "stdout",
     "output_type": "stream",
     "text": [
      "t1-healthy.csv\n",
      "\tPolynomial ^ 1, score is, 0.7215285252960172\n",
      "\tPolynomial ^ 2, score is, 0.7180839612486545\n",
      "\tPolynomial ^ 3, score is, 0.7168998923573735\n",
      "t1-healthy.csv None\n",
      "t1-non-exercises.csv\n",
      "\tPolynomial ^ 1, score is, 0.7103825136612022\n",
      "\tPolynomial ^ 2, score is, 0.7056986729117877\n",
      "\tPolynomial ^ 3, score is, 0.6990632318501171\n",
      "t1-non-exercises.csv None\n",
      "t1-non-smokers.csv\n",
      "\tPolynomial ^ 1, score is, 0.7155771323344773\n",
      "\tPolynomial ^ 2, score is, 0.713317150749142\n",
      "\tPolynomial ^ 3, score is, 0.7092994057085461\n",
      "t1-non-smokers.csv None\n",
      "t1-only-females.csv\n",
      "\tPolynomial ^ 1, score is, 0.7240164415736935\n",
      "\tPolynomial ^ 2, score is, 0.7179095713446858\n",
      "\tPolynomial ^ 3, score is, 0.7118027011156782\n",
      "t1-only-females.csv None\n",
      "t1-only-males.csv\n",
      "\tPolynomial ^ 1, score is, 0.7158768290019655\n",
      "\tPolynomial ^ 2, score is, 0.7163136055907403\n",
      "\tPolynomial ^ 3, score is, 0.7115090631142171\n",
      "t1-only-males.csv None\n",
      "t1-smoking.csv\n",
      "\tPolynomial ^ 1, score is, 0.7221416023829528\n",
      "\tPolynomial ^ 2, score is, 0.7200794317574276\n",
      "\tPolynomial ^ 3, score is, 0.7177117543725655\n",
      "t1-smoking.csv None\n",
      "t1-unhealthy.csv\n",
      "\tPolynomial ^ 1, score is, 0.7084647739221872\n",
      "\tPolynomial ^ 2, score is, 0.7055730809674028\n",
      "\tPolynomial ^ 3, score is, 0.7011041009463722\n",
      "t1-unhealthy.csv None\n",
      "t1.csv\n",
      "\tPolynomial ^ 1, score is, 0.7182463912014053\n",
      "\tPolynomial ^ 2, score is, 0.7120598793248301\n",
      "\tPolynomial ^ 3, score is, 0.7102268387688078\n",
      "t1.csv None\n",
      "t2-diff.csv\n",
      "\tPolynomial ^ 1, score is, 0.693729473764607\n",
      "\tPolynomial ^ 2, score is, 0.691667303139082\n",
      "\tPolynomial ^ 3, score is, 0.6841060108454899\n",
      "t2-diff.csv None\n",
      "t2-healthy.csv\n",
      "\tPolynomial ^ 1, score is, 0.7371367061356298\n",
      "\tPolynomial ^ 2, score is, 0.7244348762109796\n",
      "\tPolynomial ^ 3, score is, 0.722497308934338\n",
      "t2-healthy.csv None\n",
      "t2-non-exercises.csv\n",
      "\tPolynomial ^ 1, score is, 0.6908665105386417\n",
      "\tPolynomial ^ 2, score is, 0.6893052302888368\n",
      "\tPolynomial ^ 3, score is, 0.6900858704137393\n",
      "t2-non-exercises.csv None\n",
      "t2-non-smokers.csv\n",
      "\tPolynomial ^ 1, score is, 0.7149075081610446\n",
      "\tPolynomial ^ 2, score is, 0.7121453084456348\n",
      "\tPolynomial ^ 3, score is, 0.7110571691638068\n",
      "t2-non-smokers.csv None\n",
      "t2-only-females.csv\n",
      "\tPolynomial ^ 1, score is, 0.7168526130358192\n",
      "\tPolynomial ^ 2, score is, 0.7167351732237228\n",
      "\tPolynomial ^ 3, score is, 0.7021726365237816\n",
      "t2-only-females.csv None\n",
      "t2-only-males.csv\n",
      "\tPolynomial ^ 1, score is, 0.716095217296353\n",
      "\tPolynomial ^ 2, score is, 0.7112906748198297\n",
      "\tPolynomial ^ 3, score is, 0.6981873771565844\n",
      "t2-only-males.csv None\n",
      "t2-smoking.csv\n",
      "\tPolynomial ^ 1, score is, 0.7200030550675933\n",
      "\tPolynomial ^ 2, score is, 0.7172534942335599\n",
      "\tPolynomial ^ 3, score is, 0.7002978690903536\n",
      "t2-smoking.csv None\n",
      "t2-unhealthy.csv\n",
      "\tPolynomial ^ 1, score is, 0.6990010515247108\n",
      "\tPolynomial ^ 2, score is, 0.6961093585699264\n",
      "\tPolynomial ^ 3, score is, 0.6919032597266036\n",
      "t2-unhealthy.csv None\n",
      "t2.csv\n",
      "\tPolynomial ^ 1, score is, 0.7234400061101351\n",
      "\tPolynomial ^ 2, score is, 0.7168716107843887\n",
      "\tPolynomial ^ 3, score is, 0.7054151073092492\n",
      "t2.csv None\n",
      "t3-diff.csv\n",
      "\tPolynomial ^ 1, score is, 0.6933475903154357\n",
      "\tPolynomial ^ 2, score is, 0.6927365767967616\n",
      "\tPolynomial ^ 3, score is, 0.6629496677613992\n",
      "t3-diff.csv None\n",
      "t3-healthy.csv\n",
      "\tPolynomial ^ 1, score is, 0.7294940796555436\n",
      "\tPolynomial ^ 2, score is, 0.7299246501614639\n",
      "\tPolynomial ^ 3, score is, 0.7265877287405813\n",
      "t3-healthy.csv None\n",
      "t3-non-exercises.csv\n",
      "\tPolynomial ^ 1, score is, 0.7068696330991413\n",
      "\tPolynomial ^ 2, score is, 0.6557377049180327\n",
      "\tPolynomial ^ 3, score is, 0.5417642466822795\n",
      "t3-non-exercises.csv None\n",
      "t3-non-smokers.csv\n",
      "\tPolynomial ^ 1, score is, 0.7248681677408555\n",
      "\tPolynomial ^ 2, score is, 0.7250355737842136\n",
      "\tPolynomial ^ 3, score is, 0.6723863731480706\n",
      "t3-non-smokers.csv None\n",
      "t3-only-females.csv\n",
      "\tPolynomial ^ 1, score is, 0.729301233118027\n",
      "\tPolynomial ^ 2, score is, 0.7300058719906048\n",
      "\tPolynomial ^ 3, score is, 0.6756312389900176\n",
      "t3-only-females.csv None\n",
      "t3-only-males.csv\n",
      "\tPolynomial ^ 1, score is, 0.7213365363616511\n",
      "\tPolynomial ^ 2, score is, 0.7224284778335881\n",
      "\tPolynomial ^ 3, score is, 0.6962218825070976\n",
      "t3-only-males.csv None\n",
      "t3-smoking.csv\n",
      "\tPolynomial ^ 1, score is, 0.7289391277782021\n",
      "\tPolynomial ^ 2, score is, 0.727182463912014\n",
      "\tPolynomial ^ 3, score is, 0.7030474299243871\n",
      "t3-smoking.csv None\n",
      "t3-unhealthy.csv\n",
      "\tPolynomial ^ 1, score is, 0.7160883280757098\n",
      "\tPolynomial ^ 2, score is, 0.6750788643533123\n",
      "\tPolynomial ^ 3, score is, 0.6690325972660357\n",
      "t3-unhealthy.csv None\n",
      "t3.csv\n",
      "\tPolynomial ^ 1, score is, 0.7255785534254945\n",
      "\tPolynomial ^ 2, score is, 0.7255021767356603\n",
      "\tPolynomial ^ 3, score is, 0.7169479874742228\n",
      "t3.csv None\n"
     ]
    }
   ],
   "source": [
    "for file in filenames:\n",
    "    try_test2(file)\n",
    "    "
   ]
  },
  {
   "cell_type": "code",
   "execution_count": 68,
   "metadata": {
    "collapsed": true
   },
   "outputs": [],
   "source": [
    "\n",
    "def try_test3(file):\n",
    "    data = pd.read_csv(file, delimiter = ',').values\n",
    "    x = data[:,:-1]\n",
    "    y = data[:,-1]\n",
    "    x_train, x_test, y_train, y_test = train_test_split(x,y,test_size=0.2)\n",
    "    \n",
    "    regr = linear_model.LinearRegression()\n",
    "    \n",
    "    \n",
    "    \n",
    "    regr.fit(x_train, y_train)\n",
    "    print(regr.coef_)\n",
    "    print(file)\n",
    "    print(\"\\t\", regr.score(x_test,y_test))"
   ]
  },
  {
   "cell_type": "code",
   "execution_count": 69,
   "metadata": {},
   "outputs": [
    {
     "name": "stdout",
     "output_type": "stream",
     "text": [
      "[-9.61678992e-02 -1.78151559e-02  1.13983055e-01  1.79613975e-02\n",
      "  2.24647960e-02 -4.04261935e-02  2.78443210e-05  7.19034677e-03\n",
      " -1.03193999e-03  1.97915821e-03  1.00265695e-02  2.47644471e-03]\n",
      "t1-healthy.csv\n",
      "\t 0.2307944645272878\n",
      "[-8.07896223e-02  7.94717960e-03  7.28424427e-02  1.83780537e-02\n",
      "  4.43329226e-03 -2.28113459e-02  3.43706953e-05 -9.40247448e-03\n",
      " -3.63114471e-04  2.61079780e-03  8.60198586e-03  2.32103119e-03\n",
      " -3.18913855e-03 -5.63386897e-02]\n",
      "t1-non-exercises.csv\n",
      "\t 0.20103286873883608\n",
      "[-9.19539170e-02 -1.43230830e-02  1.06277000e-01  1.64252742e-02\n",
      "  2.04270150e-02 -3.68522892e-02  2.91136306e-05 -2.62975296e-03\n",
      " -9.26004153e-04  2.00281443e-03  9.79374923e-03  2.29505357e-03\n",
      " -3.45694615e-02 -4.27704174e-02]\n",
      "t1-non-smokers.csv\n",
      "\t 0.22768986600560825\n",
      "[-9.27980685e-02 -1.87721476e-02  1.11570216e-01  1.76452407e-02\n",
      "  1.71648990e-02 -3.48101397e-02  3.01460422e-05 -7.37708881e-04\n",
      "  1.81986479e-03  9.83667633e-03  2.27145813e-03 -8.67388922e-03\n",
      " -2.81447915e-02 -3.72111019e-02]\n",
      "t1-only-females.csv\n",
      "\t 0.24140963509611427\n",
      "[-9.39081975e-02 -8.69875647e-03  1.02606954e-01  2.28827772e-02\n",
      "  2.83141459e-02 -5.11969231e-02  2.51127291e-05 -1.92483258e-03\n",
      "  3.10312073e-03  9.96376114e-03  2.44198239e-03 -2.41387266e-02\n",
      " -4.20101358e-02 -6.28477320e-02]\n",
      "t1-only-males.csv\n",
      "\t 0.2178447520808502\n",
      "[-9.36845779e-02 -1.31206802e-02  1.06805258e-01  1.77140642e-02\n",
      "  2.29980048e-02 -4.07120689e-02  2.92968055e-05  1.69354442e-03\n",
      " -7.86158345e-04  2.23092892e-03  9.83194747e-03  2.29658569e-03\n",
      " -2.55227250e-02 -3.27403539e-02 -4.36439586e-02]\n",
      "t1-smoking.csv\n",
      "\t 0.2301638782362312\n",
      "[-8.07024269e-02 -2.93441155e-03  8.36368384e-02  1.50282868e-02\n",
      "  1.73697102e-02 -3.23979970e-02  3.00729057e-05  2.85943091e-02\n",
      " -8.77331790e-04  2.42909506e-03  9.29282630e-03  2.63188897e-03]\n",
      "t1-unhealthy.csv\n",
      "\t 0.22356670202109719\n",
      "[-9.64448101e-02 -1.15354737e-02  1.07980284e-01  1.96096222e-02\n",
      "  2.20574996e-02 -4.16671219e-02  2.84142230e-05  3.74691323e-03\n",
      " -6.27517479e-04  2.16575895e-03  9.91138621e-03  2.26215349e-03\n",
      " -2.99753865e-02 -4.07918467e-02 -4.27755356e-02]\n",
      "t1.csv\n",
      "\t 0.22901024456885544\n",
      "[ 1.17372318e-02  9.57829168e-02  2.30210605e-01  7.88038652e-03\n",
      " -6.26061875e-02  3.28931315e-05 -6.59969696e-03 -1.47839588e-03\n",
      "  3.84367641e-03 -2.29765185e-02 -3.04581478e-02 -4.28261203e-02]\n",
      "t2-diff.csv\n",
      "\t 0.18772790283736918\n",
      "[ 8.44585513e-02  2.11252645e-01 -2.12016588e-03 -5.19039391e-02\n",
      "  2.78525523e-05  1.16551650e-02 -7.13092407e-04  1.98734961e-03\n",
      "  1.03804269e-02  1.86139888e-03]\n",
      "t2-healthy.csv\n",
      "\t 0.22374455033747576\n",
      "[ 8.86455277e-02  1.50992261e-01 -4.16496842e-03 -4.84226082e-02\n",
      "  3.36587005e-05 -6.75328660e-03 -7.17515440e-04  2.49772167e-03\n",
      "  8.49073377e-03  2.84976756e-03 -6.21826347e-04 -5.56283294e-02]\n",
      "t2-non-exercises.csv\n",
      "\t 0.1969910016931702\n",
      "[ 7.45553864e-02  1.98800639e-01  1.29583030e-03 -5.60255441e-02\n",
      "  2.95361565e-05  2.31183770e-03 -7.75220349e-04  2.15912547e-03\n",
      "  9.79093853e-03  2.27583556e-03 -3.89375816e-02 -4.23237985e-02]\n",
      "t2-non-smokers.csv\n",
      "\t 0.22581868065217459\n",
      "[ 8.07720754e-02  2.02085203e-01 -6.24075288e-03 -4.71053923e-02\n",
      "  3.15572143e-05 -7.25737892e-04  1.66366960e-03  9.81117496e-03\n",
      "  2.19007146e-03 -1.25203133e-02 -3.57270478e-02 -3.26335399e-02]\n",
      "t2-only-females.csv\n",
      "\t 0.2392204166443097\n",
      "[ 8.62143954e-02  1.98876424e-01  1.36239552e-03 -7.68196700e-02\n",
      "  2.54726544e-05 -1.59046765e-03  2.77269360e-03  9.91104393e-03\n",
      "  2.44464183e-03 -2.77609365e-02 -4.14636870e-02 -5.31038526e-02]\n",
      "t2-only-males.csv\n",
      "\t 0.22668609765729042\n",
      "[ 7.77827131e-02  1.94804438e-01  2.52416744e-03 -5.59880152e-02\n",
      "  2.90534421e-05  2.30597296e-03 -8.25085566e-04  2.12573777e-03\n",
      "  9.95901035e-03  2.16977082e-03 -2.56242761e-02 -3.51254320e-02\n",
      " -4.53344276e-02]\n",
      "t2-smoking.csv\n",
      "\t 0.23597162915498096\n",
      "[ 8.90966808e-02  1.69604976e-01  3.93187318e-03 -3.76606964e-02\n",
      "  3.06710530e-05  2.51277128e-02 -8.46345536e-04  2.67514720e-03\n",
      "  8.90780495e-03  2.73478343e-03]\n",
      "t2-unhealthy.csv\n",
      "\t 0.23041347362754228\n",
      "[ 7.62045946e-02  1.95557928e-01  2.52101463e-03 -5.74709431e-02\n",
      "  2.92041230e-05  6.62657750e-03 -7.04683799e-04  2.15591587e-03\n",
      "  9.99444133e-03  2.11331224e-03 -2.37511153e-02 -3.99693393e-02\n",
      " -4.50957340e-02]\n",
      "t2.csv\n",
      "\t 0.22769911753680017\n",
      "[ 1.19639899e-02  7.00612739e-03 -1.11763655e-01 -1.48663338e-02\n",
      "  1.26629989e-01  1.85198980e-02  3.01953758e-02 -4.87152739e-02\n",
      "  3.28003717e-05 -2.22363714e-02 -2.59241185e-02 -2.10902425e-02\n",
      " -4.51866650e-02]\n",
      "t3-diff.csv\n",
      "\t 0.18546362117559811\n",
      "[ 3.90356059e-03 -9.72526270e-02 -2.11719517e-02  1.18424579e-01\n",
      "  2.22696757e-02  1.67200146e-02 -3.89896903e-02  2.89085650e-05\n",
      "  6.04888147e-03  1.03052504e-02  2.24876343e-03]\n",
      "t3-healthy.csv\n",
      "\t 0.2188362841670768\n",
      "[ 4.23056346e-03 -8.13034569e-02  7.03929317e-03  7.42641638e-02\n",
      "  1.32124676e-02  8.09648774e-03 -2.13089553e-02  3.46223085e-05\n",
      " -2.42848482e-02  8.42866426e-03  3.30348848e-03 -1.05220996e-03\n",
      " -6.29412161e-02]\n",
      "t3-non-exercises.csv\n",
      "\t 0.1869466203530168\n",
      "[ 3.89563828e-03 -9.11237405e-02 -1.38143732e-02  1.04938114e-01\n",
      "  1.62085939e-02  2.31669410e-02 -3.93755349e-02  2.89211266e-05\n",
      " -7.03639993e-03  9.91302367e-03  2.29678102e-03 -2.23030604e-02\n",
      " -4.21538705e-02]\n",
      "t3-non-smokers.csv\n",
      "\t 0.22909502775378623\n",
      "[ 3.10466240e-03 -9.43482148e-02 -1.95032944e-02  1.13851509e-01\n",
      "  1.38781101e-02  1.86427698e-02 -3.25208799e-02  3.07357911e-05\n",
      "  9.90861621e-03  2.18153320e-03 -1.11387095e-02 -4.05559733e-02\n",
      " -4.12084213e-02]\n",
      "t3-only-females.csv\n",
      "\t 0.2358394719116027\n",
      "[ 5.19609831e-03 -9.92066908e-02  1.74316760e-03  9.74635232e-02\n",
      "  2.09056111e-02  2.69937416e-02 -4.78993527e-02  2.53045168e-05\n",
      "  1.00410115e-02  2.78793057e-03 -2.14746128e-02 -5.03793296e-02\n",
      " -5.85504346e-02]\n",
      "t3-only-males.csv\n",
      "\t 0.2149435208922904\n",
      "[ 3.94085860e-03 -9.59004409e-02 -1.45748492e-02  1.10475290e-01\n",
      "  1.75536346e-02  2.36952345e-02 -4.12488692e-02  2.84957949e-05\n",
      " -1.30751243e-04  1.01070953e-02  2.27581869e-03 -1.97690111e-02\n",
      " -4.18209955e-02 -4.45055283e-02]\n",
      "t3-smoking.csv\n",
      "\t 0.2204740928235125\n",
      "[ 4.69654348e-03 -8.21491404e-02  5.03084207e-04  8.16460562e-02\n",
      "  1.26325252e-02  1.26282962e-02 -2.52608214e-02  3.05616458e-05\n",
      "  2.21837474e-02  9.19603562e-03  3.16134461e-03]\n",
      "t3-unhealthy.csv\n",
      "\t 0.2052599572599928\n",
      "[ 3.85560041e-03 -9.70117370e-02 -1.43786901e-02  1.11390427e-01\n",
      "  1.62848406e-02  2.34442761e-02 -3.97291166e-02  2.84703522e-05\n",
      " -3.20005157e-03  9.93136222e-03  2.33244659e-03 -2.25577350e-02\n",
      " -3.63593597e-02 -4.47068579e-02]\n",
      "t3.csv\n",
      "\t 0.2317325913625915\n"
     ]
    }
   ],
   "source": [
    "for file in filenames:\n",
    "    try_test3(file)"
   ]
  },
  {
   "cell_type": "code",
   "execution_count": null,
   "metadata": {
    "collapsed": true
   },
   "outputs": [],
   "source": []
  }
 ],
 "metadata": {
  "kernelspec": {
   "display_name": "Python 3",
   "language": "python",
   "name": "python3"
  },
  "language_info": {
   "codemirror_mode": {
    "name": "ipython",
    "version": 3
   },
   "file_extension": ".py",
   "mimetype": "text/x-python",
   "name": "python",
   "nbconvert_exporter": "python",
   "pygments_lexer": "ipython3",
   "version": "3.6.8"
  }
 },
 "nbformat": 4,
 "nbformat_minor": 2
}
